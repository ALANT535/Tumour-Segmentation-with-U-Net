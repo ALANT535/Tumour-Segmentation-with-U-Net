{
 "cells": [
  {
   "cell_type": "code",
   "execution_count": 18,
   "metadata": {},
   "outputs": [],
   "source": [
    "import tensorflow as tf\n",
    "import pandas as pd\n",
    "import numpy as np\n",
    "import random\n",
    "import os\n",
    "import cv2\n",
    "import matplotlib.pyplot as plt\n",
    "\n",
    "# ML LIBRARIES\n",
    "from keras.utils import plot_model\n",
    "from tensorflow.keras import models\n",
    "from tensorflow.keras.layers import BatchNormalization\n",
    "from tensorflow.keras.layers import MaxPooling2D\n",
    "from tensorflow.keras.layers import Conv2D\n",
    "from tensorflow.keras.layers import Dense\n",
    "from tensorflow.keras.layers import Dropout\n",
    "from tensorflow.keras.layers import Flatten\n",
    "from tensorflow.keras.optimizers import Adam\n",
    "\n",
    "# AUGMENTING THE DATASET\n",
    "from tensorflow.keras.preprocessing.image import ImageDataGenerator\n",
    "from tensorflow.keras.preprocessing.image import img_to_array\n",
    "from tensorflow.keras.preprocessing.image import array_to_img\n",
    "from tensorflow.keras.preprocessing.image import load_img\n",
    "\n",
    "# CALLBACKS FOR THE MODEL IDK\n",
    "from tensorflow.keras.callbacks import EarlyStopping\n",
    "from tensorflow.keras.callbacks import ReduceLROnPlateau\n",
    "from tensorflow.keras.callbacks import ModelCheckpoint"
   ]
  },
  {
   "cell_type": "code",
   "execution_count": 19,
   "metadata": {},
   "outputs": [],
   "source": [
    "SEED = 42\n",
    "CLASS_TYPES = ['malign', 'benign']\n",
    "root_path = r\"D:\\Whatever in stock\\test\\BRAIN SCAN IMAGES\\TARP\\datasets\"\n",
    "\n",
    "# malign means cancerous\n",
    "# benign means not cancerous\n",
    "train_path , test_path = os.path.join(root_path , 'train') , os.path.join(root_path , 'test')"
   ]
  },
  {
   "cell_type": "code",
   "execution_count": 20,
   "metadata": {},
   "outputs": [],
   "source": [
    "# Image size\n",
    "image_size = (150, 150)\n",
    "\n",
    "# Training batch size\n",
    "batch_size = 32"
   ]
  },
  {
   "cell_type": "code",
   "execution_count": 21,
   "metadata": {},
   "outputs": [
    {
     "name": "stdout",
     "output_type": "stream",
     "text": [
      "Found 800 images belonging to 2 classes.\n"
     ]
    }
   ],
   "source": [
    "train_datagen = ImageDataGenerator(rescale=1./255,\n",
    "                                   rotation_range=10,\n",
    "                                   brightness_range=(0.85, 1.15),\n",
    "                                   width_shift_range=0.002,\n",
    "                                   height_shift_range=0.002,\n",
    "                                   shear_range=12.5,\n",
    "                                   zoom_range=0,\n",
    "                                   horizontal_flip=True,\n",
    "                                   vertical_flip=False,\n",
    "                                   fill_mode=\"nearest\")\n",
    "\n",
    "train_generator = train_datagen.flow_from_directory(train_path,\n",
    "                                                 target_size = image_size,\n",
    "                                                 batch_size = batch_size,\n",
    "                                                 class_mode = 'binary',\n",
    "                                                 shuffle = True)"
   ]
  },
  {
   "cell_type": "code",
   "execution_count": 22,
   "metadata": {},
   "outputs": [
    {
     "name": "stdout",
     "output_type": "stream",
     "text": [
      "Found 200 images belonging to 2 classes.\n"
     ]
    }
   ],
   "source": [
    "test_datagen = ImageDataGenerator(rescale=1./255)\n",
    "\n",
    "# applying the generator to testing data with constant seed\n",
    "test_generator = test_datagen.flow_from_directory(test_path,\n",
    "                                                  target_size=image_size,\n",
    "                                                  batch_size=batch_size,\n",
    "                                                  class_mode=\"binary\",\n",
    "                                                  shuffle=False,\n",
    "                                                  seed=SEED)"
   ]
  },
  {
   "cell_type": "code",
   "execution_count": 23,
   "metadata": {},
   "outputs": [
    {
     "data": {
      "text/plain": [
       "-1"
      ]
     },
     "execution_count": 23,
     "metadata": {},
     "output_type": "execute_result"
    }
   ],
   "source": [
    "# testing image\n",
    "image = cv2.imread(os.path.join(train_path,r'no/train_no1.jpg'))\n",
    "cv2.imshow(\"test image\",image)\n",
    "cv2.waitKey(0)"
   ]
  },
  {
   "cell_type": "code",
   "execution_count": 24,
   "metadata": {},
   "outputs": [
    {
     "name": "stdout",
     "output_type": "stream",
     "text": [
      "(630, 630, 3)\n"
     ]
    }
   ],
   "source": [
    "print(image.shape)"
   ]
  },
  {
   "cell_type": "code",
   "execution_count": 25,
   "metadata": {},
   "outputs": [],
   "source": [
    "image_shape = (image_size[0], image_size[1], 3)\n",
    "\n",
    "# Training epochs\n",
    "epochs = 40"
   ]
  },
  {
   "cell_type": "code",
   "execution_count": 26,
   "metadata": {},
   "outputs": [
    {
     "name": "stdout",
     "output_type": "stream",
     "text": [
      "Model: \"sequential_1\"\n",
      "_________________________________________________________________\n",
      " Layer (type)                Output Shape              Param #   \n",
      "=================================================================\n",
      " conv2d_4 (Conv2D)           (None, 147, 147, 32)      1568      \n",
      "                                                                 \n",
      " max_pooling2d_3 (MaxPoolin  (None, 49, 49, 32)        0         \n",
      " g2D)                                                            \n",
      "                                                                 \n",
      " conv2d_5 (Conv2D)           (None, 46, 46, 64)        32832     \n",
      "                                                                 \n",
      " max_pooling2d_4 (MaxPoolin  (None, 15, 15, 64)        0         \n",
      " g2D)                                                            \n",
      "                                                                 \n",
      " conv2d_6 (Conv2D)           (None, 12, 12, 128)       131200    \n",
      "                                                                 \n",
      " max_pooling2d_5 (MaxPoolin  (None, 4, 4, 128)         0         \n",
      " g2D)                                                            \n",
      "                                                                 \n",
      " conv2d_7 (Conv2D)           (None, 1, 1, 128)         262272    \n",
      "                                                                 \n",
      " flatten_1 (Flatten)         (None, 128)               0         \n",
      "                                                                 \n",
      " dense_2 (Dense)             (None, 512)               66048     \n",
      "                                                                 \n",
      " dropout_1 (Dropout)         (None, 512)               0         \n",
      "                                                                 \n",
      " dense_3 (Dense)             (None, 1)                 513       \n",
      "                                                                 \n",
      "=================================================================\n",
      "Total params: 494433 (1.89 MB)\n",
      "Trainable params: 494433 (1.89 MB)\n",
      "Non-trainable params: 0 (0.00 Byte)\n",
      "_________________________________________________________________\n"
     ]
    }
   ],
   "source": [
    "\n",
    "model = models.Sequential([\n",
    "\n",
    "    Conv2D(32, (4, 4), activation=\"relu\", input_shape=image_shape),\n",
    "    MaxPooling2D(pool_size=(3, 3)),\n",
    "\n",
    "    Conv2D(64, (4, 4), activation=\"relu\"),\n",
    "    MaxPooling2D(pool_size=(3, 3)),\n",
    "\n",
    "    Conv2D(128, (4, 4), activation=\"relu\"),\n",
    "    MaxPooling2D(pool_size=(3, 3)),\n",
    "\n",
    "    Conv2D(128, (4, 4), activation=\"relu\"),\n",
    "    Flatten(),\n",
    "\n",
    "    Dense(512, activation=\"relu\"),\n",
    "    Dropout(0.5, seed=SEED),\n",
    "    \n",
    "    Dense(1, activation=\"sigmoid\")\n",
    "])\n",
    "\n",
    "model.summary()\n"
   ]
  },
  {
   "cell_type": "code",
   "execution_count": 27,
   "metadata": {},
   "outputs": [],
   "source": [
    "optimizer = Adam(learning_rate=0.001, beta_1=0.869, beta_2=0.995)\n",
    "model.compile(optimizer=optimizer, loss='binary_crossentropy', metrics= ['accuracy'])"
   ]
  },
  {
   "cell_type": "code",
   "execution_count": 28,
   "metadata": {},
   "outputs": [],
   "source": [
    "# parameters for the model\n",
    "steps_per_epoch = train_generator.samples // batch_size\n",
    "validation_steps = test_generator.samples // batch_size\n"
   ]
  },
  {
   "cell_type": "code",
   "execution_count": 29,
   "metadata": {},
   "outputs": [],
   "source": [
    "# Stop training if loss doesn't keep decreasing.\n",
    "model_es = EarlyStopping(monitor='loss', min_delta=1e-9, patience=8, verbose=True)\n",
    "model_rlr = ReduceLROnPlateau(monitor='val_loss', factor=0.3, patience=5, verbose=True)"
   ]
  },
  {
   "cell_type": "code",
   "execution_count": 30,
   "metadata": {},
   "outputs": [
    {
     "name": "stdout",
     "output_type": "stream",
     "text": [
      "Epoch 1/40\n",
      "25/25 [==============================] - 15s 437ms/step - loss: 0.6547 - accuracy: 0.6513 - val_loss: 1.0809 - val_accuracy: 0.5156 - lr: 0.0010\n",
      "Epoch 2/40\n",
      "25/25 [==============================] - 6s 248ms/step - loss: 0.4986 - accuracy: 0.7837 - val_loss: 0.9174 - val_accuracy: 0.4896 - lr: 0.0010\n",
      "Epoch 3/40\n",
      "25/25 [==============================] - 6s 244ms/step - loss: 0.3434 - accuracy: 0.8388 - val_loss: 0.9383 - val_accuracy: 0.5156 - lr: 0.0010\n",
      "Epoch 4/40\n",
      "25/25 [==============================] - 6s 246ms/step - loss: 0.3110 - accuracy: 0.8487 - val_loss: 1.0428 - val_accuracy: 0.5260 - lr: 0.0010\n",
      "Epoch 5/40\n",
      "25/25 [==============================] - 6s 248ms/step - loss: 0.2559 - accuracy: 0.8813 - val_loss: 0.7536 - val_accuracy: 0.6302 - lr: 0.0010\n",
      "Epoch 6/40\n",
      "25/25 [==============================] - 6s 244ms/step - loss: 0.2281 - accuracy: 0.9112 - val_loss: 0.7889 - val_accuracy: 0.6771 - lr: 0.0010\n",
      "Epoch 7/40\n",
      "25/25 [==============================] - 6s 244ms/step - loss: 0.2056 - accuracy: 0.9262 - val_loss: 0.7077 - val_accuracy: 0.6979 - lr: 0.0010\n",
      "Epoch 8/40\n",
      "25/25 [==============================] - 6s 246ms/step - loss: 0.1891 - accuracy: 0.9250 - val_loss: 0.5827 - val_accuracy: 0.7396 - lr: 0.0010\n",
      "Epoch 9/40\n",
      "25/25 [==============================] - 6s 249ms/step - loss: 0.1945 - accuracy: 0.9225 - val_loss: 0.7214 - val_accuracy: 0.7240 - lr: 0.0010\n",
      "Epoch 10/40\n",
      "25/25 [==============================] - 6s 255ms/step - loss: 0.2116 - accuracy: 0.9200 - val_loss: 0.4082 - val_accuracy: 0.8438 - lr: 0.0010\n",
      "Epoch 11/40\n",
      "25/25 [==============================] - 6s 245ms/step - loss: 0.1928 - accuracy: 0.9325 - val_loss: 0.7396 - val_accuracy: 0.7188 - lr: 0.0010\n",
      "Epoch 12/40\n",
      "25/25 [==============================] - 6s 249ms/step - loss: 0.1433 - accuracy: 0.9425 - val_loss: 0.8096 - val_accuracy: 0.7292 - lr: 0.0010\n",
      "Epoch 13/40\n",
      "25/25 [==============================] - 6s 249ms/step - loss: 0.1251 - accuracy: 0.9550 - val_loss: 0.4392 - val_accuracy: 0.8229 - lr: 0.0010\n",
      "Epoch 14/40\n",
      "25/25 [==============================] - 6s 251ms/step - loss: 0.1489 - accuracy: 0.9450 - val_loss: 0.7894 - val_accuracy: 0.7240 - lr: 0.0010\n",
      "Epoch 15/40\n",
      "25/25 [==============================] - ETA: 0s - loss: 0.1248 - accuracy: 0.9525\n",
      "Epoch 15: ReduceLROnPlateau reducing learning rate to 0.0003000000142492354.\n",
      "25/25 [==============================] - 6s 253ms/step - loss: 0.1248 - accuracy: 0.9525 - val_loss: 0.5373 - val_accuracy: 0.7969 - lr: 0.0010\n",
      "Epoch 16/40\n",
      "25/25 [==============================] - 6s 246ms/step - loss: 0.1028 - accuracy: 0.9675 - val_loss: 0.6772 - val_accuracy: 0.7708 - lr: 3.0000e-04\n",
      "Epoch 17/40\n",
      "25/25 [==============================] - 6s 248ms/step - loss: 0.0624 - accuracy: 0.9825 - val_loss: 0.7618 - val_accuracy: 0.7812 - lr: 3.0000e-04\n",
      "Epoch 18/40\n",
      "25/25 [==============================] - 6s 247ms/step - loss: 0.0611 - accuracy: 0.9862 - val_loss: 0.9649 - val_accuracy: 0.7448 - lr: 3.0000e-04\n",
      "Epoch 19/40\n",
      "25/25 [==============================] - 6s 247ms/step - loss: 0.0622 - accuracy: 0.9775 - val_loss: 0.9709 - val_accuracy: 0.7500 - lr: 3.0000e-04\n",
      "Epoch 20/40\n",
      "25/25 [==============================] - ETA: 0s - loss: 0.0617 - accuracy: 0.9825\n",
      "Epoch 20: ReduceLROnPlateau reducing learning rate to 9.000000427477062e-05.\n",
      "25/25 [==============================] - 6s 248ms/step - loss: 0.0617 - accuracy: 0.9825 - val_loss: 0.6952 - val_accuracy: 0.7969 - lr: 3.0000e-04\n",
      "Epoch 21/40\n",
      "25/25 [==============================] - 6s 247ms/step - loss: 0.0461 - accuracy: 0.9887 - val_loss: 0.8042 - val_accuracy: 0.7760 - lr: 9.0000e-05\n",
      "Epoch 22/40\n",
      "25/25 [==============================] - 6s 248ms/step - loss: 0.0348 - accuracy: 0.9900 - val_loss: 0.8137 - val_accuracy: 0.7812 - lr: 9.0000e-05\n",
      "Epoch 23/40\n",
      "25/25 [==============================] - 6s 249ms/step - loss: 0.0486 - accuracy: 0.9900 - val_loss: 0.7490 - val_accuracy: 0.8021 - lr: 9.0000e-05\n",
      "Epoch 24/40\n",
      "25/25 [==============================] - 6s 246ms/step - loss: 0.0379 - accuracy: 0.9887 - val_loss: 0.6719 - val_accuracy: 0.8333 - lr: 9.0000e-05\n",
      "Epoch 25/40\n",
      "25/25 [==============================] - ETA: 0s - loss: 0.0409 - accuracy: 0.9937\n",
      "Epoch 25: ReduceLROnPlateau reducing learning rate to 2.700000040931627e-05.\n",
      "25/25 [==============================] - 6s 253ms/step - loss: 0.0409 - accuracy: 0.9937 - val_loss: 0.7769 - val_accuracy: 0.7917 - lr: 9.0000e-05\n",
      "Epoch 26/40\n",
      "25/25 [==============================] - 6s 244ms/step - loss: 0.0341 - accuracy: 0.9925 - val_loss: 0.7284 - val_accuracy: 0.8229 - lr: 2.7000e-05\n",
      "Epoch 27/40\n",
      "25/25 [==============================] - 6s 251ms/step - loss: 0.0404 - accuracy: 0.9887 - val_loss: 0.7780 - val_accuracy: 0.8073 - lr: 2.7000e-05\n",
      "Epoch 28/40\n",
      "25/25 [==============================] - 6s 248ms/step - loss: 0.0263 - accuracy: 0.9925 - val_loss: 0.7894 - val_accuracy: 0.7969 - lr: 2.7000e-05\n",
      "Epoch 29/40\n",
      "25/25 [==============================] - 6s 255ms/step - loss: 0.0302 - accuracy: 0.9937 - val_loss: 0.8063 - val_accuracy: 0.7917 - lr: 2.7000e-05\n",
      "Epoch 30/40\n",
      "25/25 [==============================] - ETA: 0s - loss: 0.0317 - accuracy: 0.9875\n",
      "Epoch 30: ReduceLROnPlateau reducing learning rate to 8.100000013655517e-06.\n",
      "25/25 [==============================] - 6s 254ms/step - loss: 0.0317 - accuracy: 0.9875 - val_loss: 0.7510 - val_accuracy: 0.8073 - lr: 2.7000e-05\n",
      "Epoch 31/40\n",
      "25/25 [==============================] - 6s 250ms/step - loss: 0.0330 - accuracy: 0.9887 - val_loss: 0.7554 - val_accuracy: 0.8073 - lr: 8.1000e-06\n",
      "Epoch 32/40\n",
      "25/25 [==============================] - 6s 252ms/step - loss: 0.0326 - accuracy: 0.9900 - val_loss: 0.7611 - val_accuracy: 0.8073 - lr: 8.1000e-06\n",
      "Epoch 33/40\n",
      "25/25 [==============================] - 6s 248ms/step - loss: 0.0288 - accuracy: 0.9887 - val_loss: 0.7482 - val_accuracy: 0.8125 - lr: 8.1000e-06\n",
      "Epoch 34/40\n",
      "25/25 [==============================] - 6s 253ms/step - loss: 0.0250 - accuracy: 0.9950 - val_loss: 0.7754 - val_accuracy: 0.8073 - lr: 8.1000e-06\n",
      "Epoch 35/40\n",
      "25/25 [==============================] - ETA: 0s - loss: 0.0287 - accuracy: 0.9912\n",
      "Epoch 35: ReduceLROnPlateau reducing learning rate to 2.429999949526973e-06.\n",
      "25/25 [==============================] - 7s 264ms/step - loss: 0.0287 - accuracy: 0.9912 - val_loss: 0.7770 - val_accuracy: 0.8073 - lr: 8.1000e-06\n",
      "Epoch 36/40\n",
      "25/25 [==============================] - 6s 249ms/step - loss: 0.0355 - accuracy: 0.9900 - val_loss: 0.7751 - val_accuracy: 0.8073 - lr: 2.4300e-06\n",
      "Epoch 37/40\n",
      "25/25 [==============================] - 6s 251ms/step - loss: 0.0329 - accuracy: 0.9912 - val_loss: 0.7801 - val_accuracy: 0.8125 - lr: 2.4300e-06\n",
      "Epoch 38/40\n",
      "25/25 [==============================] - 6s 247ms/step - loss: 0.0354 - accuracy: 0.9912 - val_loss: 0.7798 - val_accuracy: 0.8125 - lr: 2.4300e-06\n",
      "Epoch 39/40\n",
      "25/25 [==============================] - 6s 246ms/step - loss: 0.0300 - accuracy: 0.9925 - val_loss: 0.7815 - val_accuracy: 0.8125 - lr: 2.4300e-06\n",
      "Epoch 40/40\n",
      "25/25 [==============================] - ETA: 0s - loss: 0.0230 - accuracy: 0.9962\n",
      "Epoch 40: ReduceLROnPlateau reducing learning rate to 7.289999985005124e-07.\n",
      "25/25 [==============================] - 7s 270ms/step - loss: 0.0230 - accuracy: 0.9962 - val_loss: 0.7864 - val_accuracy: 0.8125 - lr: 2.4300e-06\n"
     ]
    }
   ],
   "source": [
    "# Training the model\n",
    "model_history = model.fit(train_generator,\n",
    "                    steps_per_epoch=steps_per_epoch,\n",
    "                    epochs=epochs,\n",
    "                    validation_data=test_generator,\n",
    "                    validation_steps=validation_steps,\n",
    "                    callbacks=[model_es, model_rlr])"
   ]
  },
  {
   "cell_type": "code",
   "execution_count": 31,
   "metadata": {},
   "outputs": [
    {
     "name": "stdout",
     "output_type": "stream",
     "text": [
      "6/6 [==============================] - 0s 67ms/step - loss: 0.7864 - accuracy: 0.8125\n",
      "Test Loss: 0.78636\n",
      "Test Accuracy: 0.81250\n"
     ]
    }
   ],
   "source": [
    "loss, accuracy = model.evaluate(test_generator, steps=test_generator.samples//batch_size)\n",
    "print(f\"Test Loss: {loss:0.5f}\")\n",
    "print(f\"Test Accuracy: {accuracy:0.5f}\")"
   ]
  },
  {
   "cell_type": "code",
   "execution_count": 32,
   "metadata": {},
   "outputs": [
    {
     "data": {
      "image/png": "[encoded data removed]",
      "text/plain": [
       "<Figure size 1500x600 with 2 Axes>"
      ]
     },
     "metadata": {},
     "output_type": "display_data"
    }
   ],
   "source": [
    "_, ax = plt.subplots(ncols=2, figsize=(15, 6))\n",
    "\n",
    "# plotting the accuracy\n",
    "ax[0].plot(model_history.history['accuracy'][::2])\n",
    "ax[0].plot(model_history.history['val_accuracy'][::2])\n",
    "ax[0].set_title('Model 2 Accuracy')\n",
    "ax[0].set_xlabel('Epoch')\n",
    "ax[0].set_ylabel('Accuracy')\n",
    "ax[0].legend(['Train', 'Validation'])\n",
    "ax[0].grid(alpha=0.2)\n",
    "\n",
    "# plotting the losses\n",
    "ax[1].plot(model_history.history['loss'][::2])\n",
    "ax[1].plot(model_history.history['val_loss'][::2])\n",
    "ax[1].set_title('Model 2 Loss')\n",
    "ax[1].set_xlabel('Epoch')\n",
    "ax[1].set_ylabel('Loss')\n",
    "ax[1].legend(['Train', 'Validation'])\n",
    "ax[1].grid(alpha=0.2)\n",
    "\n",
    "plt.show()"
   ]
  },
  {
   "cell_type": "code",
   "execution_count": 33,
   "metadata": {},
   "outputs": [
    {
     "name": "stderr",
     "output_type": "stream",
     "text": [
      "C:\\Users\\LENOVO\\AppData\\Local\\Temp\\ipykernel_18300\\1917785148.py:1: UserWarning: You are saving your model as an HDF5 file via `model.save()`. This file format is considered legacy. We recommend using instead the native Keras format, e.g. `model.save('my_model.keras')`.\n",
      "  tf.keras.models.save_model(model,'saved_model.hdf5')\n"
     ]
    }
   ],
   "source": [
    "tf.keras.models.save_model(model,'saved_model.hdf5')"
   ]
  }
 ],
 "metadata": {
  "kernelspec": {
   "display_name": "sam2",
   "language": "python",
   "name": "python3"
  },
  "language_info": {
   "codemirror_mode": {
    "name": "ipython",
    "version": 3
   },
   "file_extension": ".py",
   "mimetype": "text/x-python",
   "name": "python",
   "nbconvert_exporter": "python",
   "pygments_lexer": "ipython3",
   "version": "3.10.4"
  }
 },
 "nbformat": 4,
 "nbformat_minor": 2
}
