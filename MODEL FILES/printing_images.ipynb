{
 "cells": [
  {
   "cell_type": "code",
   "execution_count": null,
   "metadata": {
    "vscode": {
     "languageId": "plaintext"
    }
   },
   "outputs": [],
   "source": [
    "import cv2\n",
    "import matplotlib.pyplot as plt\n",
    "\n",
    "image_path = r'D:\\Whatever in stock\\test\\BRAIN SCAN IMAGES\\TARP\\datasets\\small_kaggle\\yes\\Y1.jpg'  \n",
    "original_image = cv2.imread(image_path)\n",
    "\n",
    "if original_image is None:\n",
    "    raise ValueError(\"Image not found. Please ensure the path is correct.\")\n",
    "\n",
    "gray_image = cv2.cvtColor(original_image, cv2.COLOR_BGR2GRAY)\n",
    "blurred_image = cv2.GaussianBlur(gray_image, (5, 5), 0)\n",
    "equalized_image = cv2.equalizeHist(gray_image)\n",
    "_, thresholded_image = cv2.threshold(gray_image, 128, 255, cv2.THRESH_BINARY)\n",
    "edges = cv2.Canny(gray_image, 100, 200)\n",
    "resized_image = cv2.resize(original_image, (256, 256))\n",
    "\n",
    "images = [\n",
    "    (original_image, \"Original Image\"),\n",
    "    (gray_image, \"Grayscale Image\"),\n",
    "    (blurred_image, \"Blurred Image\"),\n",
    "    (equalized_image, \"Equalized Image\"),\n",
    "    (thresholded_image, \"Thresholded Image\"),\n",
    "    (edges, \"Canny Edges\"),\n",
    "]\n",
    "\n",
    "plt.figure(figsize=(15, 10))\n",
    "\n",
    "for i, (img, title) in enumerate(images):\n",
    "    plt.subplot(3, 3, i + 1)\n",
    "    if len(img.shape) == 2:  # Grayscale image\n",
    "        plt.imshow(img, cmap='gray')\n",
    "    else:  # Color image\n",
    "        plt.imshow(cv2.cvtColor(img, cv2.COLOR_BGR2RGB))\n",
    "    plt.title(title)\n",
    "    plt.axis('off')\n",
    "\n",
    "plt.tight_layout()\n",
    "plt.show()\n"
   ]
  },
  {
   "cell_type": "code",
   "execution_count": null,
   "metadata": {
    "vscode": {
     "languageId": "plaintext"
    }
   },
   "outputs": [],
   "source": [
    "import cv2\n",
    "import matplotlib.pyplot as plt\n",
    "\n",
    "original_image = cv2.imread(r\"D:\\Whatever in stock\\test\\BRAIN SCAN IMAGES\\TARP\\datasets\\Auto_Labelled\\brain_scan_no_label.png\")\n",
    "labelled_image = cv2.imread(r\"D:\\Whatever in stock\\test\\BRAIN SCAN IMAGES\\TARP\\datasets\\Auto_Labelled\\image.png\")\n",
    "\n",
    "\n",
    "images = [\n",
    "    (original_image, \"Original Image\"),\n",
    "    (labelled_image, \"RoboFlow Labelled Data Image\")\n",
    "]\n",
    "\n",
    "plt.figure(figsize=(15, 10))\n",
    "\n",
    "for i, (img, title) in enumerate(images):\n",
    "    plt.subplot(3, 3, i + 1)\n",
    "    if len(img.shape) == 2:  # Grayscale image\n",
    "        plt.imshow(img, cmap='gray')\n",
    "    else:  # Color image\n",
    "        plt.imshow(cv2.cvtColor(img, cv2.COLOR_BGR2RGB))\n",
    "    plt.title(title)\n",
    "    plt.axis('off')\n",
    "\n",
    "plt.tight_layout()\n",
    "plt.show()\n"
   ]
  }
 ],
 "metadata": {
  "language_info": {
   "name": "python"
  }
 },
 "nbformat": 4,
 "nbformat_minor": 2
}
